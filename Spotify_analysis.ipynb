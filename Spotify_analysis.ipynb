{
  "nbformat": 4,
  "nbformat_minor": 0,
  "metadata": {
    "colab": {
      "name": "Spotify analysis",
      "provenance": [],
      "collapsed_sections": []
    },
    "kernelspec": {
      "name": "python3",
      "display_name": "Python 3"
    }
  },
  "cells": [
    {
      "cell_type": "code",
      "metadata": {
        "colab": {
          "base_uri": "https://localhost:8080/"
        },
        "id": "p8IktN_bEEYD",
        "outputId": "1d0d1d70-48c6-4c96-cf85-f952dc1d6b78"
      },
      "source": [
        "pip install spotipy"
      ],
      "execution_count": null,
      "outputs": [
        {
          "output_type": "stream",
          "text": [
            "Collecting spotipy\n",
            "  Downloading https://files.pythonhosted.org/packages/7a/cd/e7d9a35216ea5bfb9234785f3d8fa7c96d0e33999c2cb72394128f6b4cce/spotipy-2.16.1-py3-none-any.whl\n",
            "Requirement already satisfied: requests>=2.20.0 in /usr/local/lib/python3.6/dist-packages (from spotipy) (2.23.0)\n",
            "Requirement already satisfied: six>=1.10.0 in /usr/local/lib/python3.6/dist-packages (from spotipy) (1.15.0)\n",
            "Requirement already satisfied: chardet<4,>=3.0.2 in /usr/local/lib/python3.6/dist-packages (from requests>=2.20.0->spotipy) (3.0.4)\n",
            "Requirement already satisfied: certifi>=2017.4.17 in /usr/local/lib/python3.6/dist-packages (from requests>=2.20.0->spotipy) (2020.12.5)\n",
            "Requirement already satisfied: idna<3,>=2.5 in /usr/local/lib/python3.6/dist-packages (from requests>=2.20.0->spotipy) (2.10)\n",
            "Requirement already satisfied: urllib3!=1.25.0,!=1.25.1,<1.26,>=1.21.1 in /usr/local/lib/python3.6/dist-packages (from requests>=2.20.0->spotipy) (1.24.3)\n",
            "Installing collected packages: spotipy\n",
            "Successfully installed spotipy-2.16.1\n"
          ],
          "name": "stdout"
        }
      ]
    },
    {
      "cell_type": "code",
      "metadata": {
        "id": "ubjBln7rEBx3"
      },
      "source": [
        "import spotipy\n",
        "from spotipy.oauth2 import SpotifyClientCredentials\n",
        "import pandas as pd\n",
        "import time "
      ],
      "execution_count": null,
      "outputs": []
    },
    {
      "cell_type": "code",
      "metadata": {
        "id": "FW6j5iYJFZJO"
      },
      "source": [
        "client_id = 'fe85d07e633d45bdad9c3c3191e60b4d'\n",
        "client_secret = '5b55d434b25543fb812bd614590deac8'\n",
        "\n",
        "client_credentials_manager = SpotifyClientCredentials(client_id, client_secret)\n",
        "sp = spotipy.Spotify(client_credentials_manager=client_credentials_manager)"
      ],
      "execution_count": null,
      "outputs": []
    },
    {
      "cell_type": "code",
      "metadata": {
        "id": "r4QXYetkHZJV"
      },
      "source": [
        "def getTrackID(user, playlist_id):\n",
        "    id = []\n",
        "    play_list = sp.user_playlist(user, playlist_id)\n",
        "    for item in play_list['tracks']['items']:\n",
        "        track = item['track']\n",
        "        id.append(track['id'])\n",
        "    return id\n",
        "\n",
        "id = getTrackID('1ghpou4r8snsvrkafc2wmfc8w', '5diJM46F2yk4XfrOiELfE3')"
      ],
      "execution_count": null,
      "outputs": []
    },
    {
      "cell_type": "code",
      "metadata": {
        "colab": {
          "base_uri": "https://localhost:8080/"
        },
        "id": "ctd5cMC2HgFC",
        "outputId": "e8c9dc0d-8ba0-4641-a62b-81e64b42626a"
      },
      "source": [
        "print(len(id))\n",
        "print(id)"
      ],
      "execution_count": null,
      "outputs": [
        {
          "output_type": "stream",
          "text": [
            "100\n",
            "['2JzZzZUQj3Qff7wapcbKjc', '7yq4Qj7cqayVTp3FF9CWbm', '3CRDbSIZ4r5MsZ0YwxuEkn', '0TDLuuLlV54CkRRUOahJb4', '0nrRP2bk19rLc0orkWPQk2', '0ct6r3EGTcMLPtrXHDvVjc', '3vZM2544ETmOCCHuBPZRzm', '4lhqb6JvbHId48OUJGwymk', '2P4OICZRVAQcYAV2JReRfj', '31qgVdvSqTQ7unwQQngycB', '7w87IxuO7BDcJ3YUqCyMTT', '1Mf27cnAF1Q6Ko83XTM5d1', '62yJjFtgkhUrXktIoSjgP2', '2jiPHbFX5XM8TjaTfYJ0eo', '1K3LRUEcUz5FMtPYyg0F45', '0qOnSQQF0yzuPWsXrQ9paz', '7pYfyrMNPn3wtoCyqcTVoI', '4OSBTYWVwsQhGLF9NHvIbR', '3bNv3VuUOKgrf5hu3YcuRo', '1Yk0cQdMLx5RzzFTYwmuld', '3e9HZxeyfWwjeyPAMmWSSQ', '6lV2MSQmRIkycDScNtrBXO', '4Ub8UsjWuewQrPhuepfVpd', '2Fxmhks0bxGSBdJ92vM42m', '47Slg6LuqLaX0VodpSCvPt', '3w3y8KPTfNeOKPiqUTakBh', '6qn9YLKt13AGvpq9jfO8py', '0azC730Exh71aQlOt9Zj3y', '1rfofaqEpACxVEHIZBJe6W', '58q2HKrzhC3ozto2nDdN4z', '20I6sIOMTCkB6w7ryavxtO', '3MeL7vAsVbgSrGFd0HioaJ', '7BKLCZ1jbUBVqRi2FVlTVw', '6RUKPb4LETWmmr3iAEQktW', '61dCUoMCg28qEBzrW6htYM', '2Foc5Q5nqNiosCNqttzHof', '67awxiNHNyjMXhVgsHuIrs', '1zi7xx7UVEFkmKfv06H8x0', '6jdOi5U5LBzQrc4c1VT983', '2ekn2ttSfGqwhhate0LSR0', '34gCuhDGsG4bRPIf9bb02f', '0Cy7wt6IlRfBPHXXjmZbcP', '2d8JP84HNLKhmd6IYOoupQ', '2LEF1A8DOZ9wRYikWgVlZ8', '3B54sVLJ402zGa6Xm4YGNe', '6t6oULCRS6hnI7rm0h5gwl', '3ehrxAhYms24KLPG8FZe0W', '1qDrWA6lyx8cLECdZE7TV7', '6Zc5f20q7sOe1IC1c1jQvZ', '3W3KtDwAIg3mAruSpnfG3Q', '1zB4vmk8tFRmM9UULNzbLB', '0pqnGHJpmpxLKifKRmU6WP', '0p6RzKrGeXzyYYd2RZPKd8', '7oGZAicScQt96OAW4AruYy', '0puf9yIluy9W0vpMEUoAnN', '3U4isOIWM3VvDubwSI3y7a', '285pBltuF7vW8TeWk8hdRR', '50kpGaPAhYJ3sGmk6vplg0', '6JV2JOEocMgcZxYSZelKcc', '5jrdCoLpJSvHHorevXBATy', '0HPD5WQqrq7wPWR7P7Dw1i', '1nInOsHbtotAmEOQhtvnzP', '7KXjTSCq5nL1LoYtL7XAwS', '0F7FA14euOIX8KcbEturGH', '3HWzoMvoF3TQfYg4UPszDq', '7mitXLIMCflkhZiD34uEQI', '7BFI9QZPQKgYuR2HhDgwbG', '4YMqbFcDIFiCBd02PzUBcM', '3bidbhpOYeV4knp8AIu8Xn', '6RtPijgfPKROxEzTHNRiDp', '2YWjW3wwQIBLNhxWKBQd16', '32OlwWuMpZ6b0aN2RZOeMS', '1r299qCKBLgUS9XJ9m1kEx', '7npLlaPu9Mfno8hjk5OagD', '5tf1VVWniHgryyumXyJM7w', '2dpaYNEQHiRxtZbfNsse99', '5jE48hhRu8E6zBDPRSkEq7', '0vbtURX4qv1l7besfwmnD8', '2vwlzO0Qp8kfEtzTsCXfyE', '2EBCVPNAG46nbgs6jXPGvv', '4cluDES4hQEUhmXj6TXkSo', '2tpWsVSb9UEmDRxAl1zhX1', '1rqqCSm0Qe4I9rUvWncaom', '60nZcImufyMA1MKQY3dcCH', '1mKXFLRA179hdOWQBwUk9e', '4QNpBfC0zvjKqPJcyqBy9W', '7FESgYLcOufHqKlwrvJN60', '0e7ipj03S05BNilyu5bRzt', '7xQAfvXzm3AkraOtGPWIZg', '3KkXRkHbMCARz0aVfEt68P', '2wAJTrFhCnQyNSD3oUgTZO', '0GNI8K3VATWBABQFAzBAYe', '5Nm9ERjJZ5oyfXZTECKmRt', '7795WJLVKJoAyVoOtCWqXN', '3zkWCteF82vJwv0hRLba76', '2CEgGE6aESpnmtfiZwYlbV', '0cqRj7pUJDkTCEsJkx8snD', '1K3LRUEcUz5FMtPYyg0F45', '7fBv7CLKzipRk6EC6TWHOB', '22VdIZQfgXJea34mQxlt81']\n"
          ],
          "name": "stdout"
        }
      ]
    },
    {
      "cell_type": "code",
      "metadata": {
        "id": "pwxyqvWEHkTf"
      },
      "source": [
        "def getTrackFeatures(id):\n",
        "  meta = sp.track(id)\n",
        "  features = sp.audio_features(id)\n",
        "\n",
        "  # meta data\n",
        "  name = meta['name']\n",
        "  album = meta['album']['name']\n",
        "  artist = meta['album']['artists'][0]['name']\n",
        "  release_date = meta['album']['release_date']\n",
        "  length = meta['duration_ms']\n",
        "  popularity = meta['popularity']\n",
        "\n",
        "  # features from the data\n",
        "  acousticness = features[0]['acousticness']\n",
        "  danceability = features[0]['danceability']\n",
        "  energy = features[0]['energy']\n",
        "  instrumentalness = features[0]['instrumentalness']\n",
        "  liveness = features[0]['liveness']\n",
        "  loudness = features[0]['loudness']\n",
        "  speechiness = features[0]['speechiness']\n",
        "  tempo = features[0]['tempo']\n",
        "  time_signature = features[0]['time_signature']\n",
        "\n",
        "  track = [name, album, artist, release_date, length, popularity, danceability, acousticness, danceability, energy, instrumentalness, liveness, loudness, speechiness, tempo, time_signature]\n",
        "  return track"
      ],
      "execution_count": null,
      "outputs": []
    },
    {
      "cell_type": "code",
      "metadata": {
        "id": "wByJQkdmHwjU"
      },
      "source": [
        "# loop over track ids \n",
        "tracks = []\n",
        "for i in range(len(ids)):\n",
        "  time.sleep(.5)\n",
        "  track = getTrackFeatures(ids[i])\n",
        "  tracks.append(track)\n",
        "\n",
        "# create dataset\n",
        "df = pd.DataFrame(tracks, columns = ['name', 'album', 'artist', 'release_date', 'length', 'popularity', 'danceability', 'acousticness', 'danceability', 'energy', 'instrumentalness', 'liveness', 'loudness', 'speechiness', 'tempo', 'time_signature'])\n",
        "df.to_csv(\"spotify.csv\", sep = ',')"
      ],
      "execution_count": null,
      "outputs": []
    },
    {
      "cell_type": "code",
      "metadata": {
        "colab": {
          "base_uri": "https://localhost:8080/",
          "height": 843
        },
        "id": "IZa1VWijH_aV",
        "outputId": "5ff4bbb9-28d4-4022-eb36-aad0460d4dc1"
      },
      "source": [
        "df"
      ],
      "execution_count": null,
      "outputs": [
        {
          "output_type": "execute_result",
          "data": {
            "text/html": [
              "<div>\n",
              "<style scoped>\n",
              "    .dataframe tbody tr th:only-of-type {\n",
              "        vertical-align: middle;\n",
              "    }\n",
              "\n",
              "    .dataframe tbody tr th {\n",
              "        vertical-align: top;\n",
              "    }\n",
              "\n",
              "    .dataframe thead th {\n",
              "        text-align: right;\n",
              "    }\n",
              "</style>\n",
              "<table border=\"1\" class=\"dataframe\">\n",
              "  <thead>\n",
              "    <tr style=\"text-align: right;\">\n",
              "      <th></th>\n",
              "      <th>name</th>\n",
              "      <th>album</th>\n",
              "      <th>artist</th>\n",
              "      <th>release_date</th>\n",
              "      <th>length</th>\n",
              "      <th>popularity</th>\n",
              "      <th>danceability</th>\n",
              "      <th>acousticness</th>\n",
              "      <th>danceability</th>\n",
              "      <th>energy</th>\n",
              "      <th>instrumentalness</th>\n",
              "      <th>liveness</th>\n",
              "      <th>loudness</th>\n",
              "      <th>speechiness</th>\n",
              "      <th>tempo</th>\n",
              "      <th>time_signature</th>\n",
              "    </tr>\n",
              "  </thead>\n",
              "  <tbody>\n",
              "    <tr>\n",
              "      <th>0</th>\n",
              "      <td>See You Again (feat. Charlie Puth)</td>\n",
              "      <td>See You Again (feat. Charlie Puth)</td>\n",
              "      <td>Wiz Khalifa</td>\n",
              "      <td>2015-01-01</td>\n",
              "      <td>229525</td>\n",
              "      <td>80</td>\n",
              "      <td>0.689</td>\n",
              "      <td>0.36900</td>\n",
              "      <td>0.689</td>\n",
              "      <td>0.481</td>\n",
              "      <td>0.000001</td>\n",
              "      <td>0.0649</td>\n",
              "      <td>-7.503</td>\n",
              "      <td>0.0815</td>\n",
              "      <td>80.025</td>\n",
              "      <td>4</td>\n",
              "    </tr>\n",
              "    <tr>\n",
              "      <th>1</th>\n",
              "      <td>Riptide</td>\n",
              "      <td>Dream Your Life Away</td>\n",
              "      <td>Vance Joy</td>\n",
              "      <td>2014-09-08</td>\n",
              "      <td>204280</td>\n",
              "      <td>78</td>\n",
              "      <td>0.484</td>\n",
              "      <td>0.43100</td>\n",
              "      <td>0.484</td>\n",
              "      <td>0.731</td>\n",
              "      <td>0.000000</td>\n",
              "      <td>0.1510</td>\n",
              "      <td>-6.694</td>\n",
              "      <td>0.0379</td>\n",
              "      <td>101.654</td>\n",
              "      <td>4</td>\n",
              "    </tr>\n",
              "    <tr>\n",
              "      <th>2</th>\n",
              "      <td>Stressed Out</td>\n",
              "      <td>Blurryface</td>\n",
              "      <td>Twenty One Pilots</td>\n",
              "      <td>2015-05-15</td>\n",
              "      <td>202333</td>\n",
              "      <td>82</td>\n",
              "      <td>0.734</td>\n",
              "      <td>0.04620</td>\n",
              "      <td>0.734</td>\n",
              "      <td>0.637</td>\n",
              "      <td>0.000023</td>\n",
              "      <td>0.0602</td>\n",
              "      <td>-5.677</td>\n",
              "      <td>0.1410</td>\n",
              "      <td>169.977</td>\n",
              "      <td>4</td>\n",
              "    </tr>\n",
              "    <tr>\n",
              "      <th>3</th>\n",
              "      <td>Titanium (feat. Sia)</td>\n",
              "      <td>Nothing but the Beat (Ultimate Edition)</td>\n",
              "      <td>David Guetta</td>\n",
              "      <td>2012-12-07</td>\n",
              "      <td>245040</td>\n",
              "      <td>77</td>\n",
              "      <td>0.604</td>\n",
              "      <td>0.06790</td>\n",
              "      <td>0.604</td>\n",
              "      <td>0.787</td>\n",
              "      <td>0.150000</td>\n",
              "      <td>0.1270</td>\n",
              "      <td>-3.674</td>\n",
              "      <td>0.1030</td>\n",
              "      <td>126.062</td>\n",
              "      <td>4</td>\n",
              "    </tr>\n",
              "    <tr>\n",
              "      <th>4</th>\n",
              "      <td>Wake Me Up</td>\n",
              "      <td>True</td>\n",
              "      <td>Avicii</td>\n",
              "      <td>2013-01-01</td>\n",
              "      <td>247426</td>\n",
              "      <td>83</td>\n",
              "      <td>0.532</td>\n",
              "      <td>0.00380</td>\n",
              "      <td>0.532</td>\n",
              "      <td>0.783</td>\n",
              "      <td>0.001200</td>\n",
              "      <td>0.1610</td>\n",
              "      <td>-5.697</td>\n",
              "      <td>0.0523</td>\n",
              "      <td>124.080</td>\n",
              "      <td>4</td>\n",
              "    </tr>\n",
              "    <tr>\n",
              "      <th>...</th>\n",
              "      <td>...</td>\n",
              "      <td>...</td>\n",
              "      <td>...</td>\n",
              "      <td>...</td>\n",
              "      <td>...</td>\n",
              "      <td>...</td>\n",
              "      <td>...</td>\n",
              "      <td>...</td>\n",
              "      <td>...</td>\n",
              "      <td>...</td>\n",
              "      <td>...</td>\n",
              "      <td>...</td>\n",
              "      <td>...</td>\n",
              "      <td>...</td>\n",
              "      <td>...</td>\n",
              "      <td>...</td>\n",
              "    </tr>\n",
              "    <tr>\n",
              "      <th>95</th>\n",
              "      <td>Dynamite</td>\n",
              "      <td>The Rokstarr Hits Collection</td>\n",
              "      <td>Taio Cruz</td>\n",
              "      <td>2010-01-01</td>\n",
              "      <td>202613</td>\n",
              "      <td>77</td>\n",
              "      <td>0.751</td>\n",
              "      <td>0.00379</td>\n",
              "      <td>0.751</td>\n",
              "      <td>0.783</td>\n",
              "      <td>0.000000</td>\n",
              "      <td>0.0360</td>\n",
              "      <td>-3.724</td>\n",
              "      <td>0.0859</td>\n",
              "      <td>119.975</td>\n",
              "      <td>4</td>\n",
              "    </tr>\n",
              "    <tr>\n",
              "      <th>96</th>\n",
              "      <td>Shake It Off</td>\n",
              "      <td>1989 (Deluxe)</td>\n",
              "      <td>Taylor Swift</td>\n",
              "      <td>2014-01-01</td>\n",
              "      <td>219200</td>\n",
              "      <td>76</td>\n",
              "      <td>0.647</td>\n",
              "      <td>0.06470</td>\n",
              "      <td>0.647</td>\n",
              "      <td>0.800</td>\n",
              "      <td>0.000000</td>\n",
              "      <td>0.3340</td>\n",
              "      <td>-5.384</td>\n",
              "      <td>0.1650</td>\n",
              "      <td>160.078</td>\n",
              "      <td>4</td>\n",
              "    </tr>\n",
              "    <tr>\n",
              "      <th>97</th>\n",
              "      <td>Ho Hey</td>\n",
              "      <td>The Lumineers (Deluxe Edition)</td>\n",
              "      <td>The Lumineers</td>\n",
              "      <td>2012-01-01</td>\n",
              "      <td>163133</td>\n",
              "      <td>73</td>\n",
              "      <td>0.682</td>\n",
              "      <td>0.76500</td>\n",
              "      <td>0.682</td>\n",
              "      <td>0.471</td>\n",
              "      <td>0.000000</td>\n",
              "      <td>0.0908</td>\n",
              "      <td>-9.182</td>\n",
              "      <td>0.0301</td>\n",
              "      <td>79.907</td>\n",
              "      <td>4</td>\n",
              "    </tr>\n",
              "    <tr>\n",
              "      <th>98</th>\n",
              "      <td>The Hills</td>\n",
              "      <td>Beauty Behind The Madness</td>\n",
              "      <td>The Weeknd</td>\n",
              "      <td>2015-08-28</td>\n",
              "      <td>242253</td>\n",
              "      <td>83</td>\n",
              "      <td>0.585</td>\n",
              "      <td>0.06710</td>\n",
              "      <td>0.585</td>\n",
              "      <td>0.564</td>\n",
              "      <td>0.000000</td>\n",
              "      <td>0.1350</td>\n",
              "      <td>-7.063</td>\n",
              "      <td>0.0515</td>\n",
              "      <td>113.003</td>\n",
              "      <td>4</td>\n",
              "    </tr>\n",
              "    <tr>\n",
              "      <th>99</th>\n",
              "      <td>Can't Feel My Face</td>\n",
              "      <td>Beauty Behind The Madness</td>\n",
              "      <td>The Weeknd</td>\n",
              "      <td>2015-08-28</td>\n",
              "      <td>213520</td>\n",
              "      <td>77</td>\n",
              "      <td>0.705</td>\n",
              "      <td>0.11300</td>\n",
              "      <td>0.705</td>\n",
              "      <td>0.769</td>\n",
              "      <td>0.000000</td>\n",
              "      <td>0.1050</td>\n",
              "      <td>-5.526</td>\n",
              "      <td>0.0425</td>\n",
              "      <td>107.949</td>\n",
              "      <td>4</td>\n",
              "    </tr>\n",
              "  </tbody>\n",
              "</table>\n",
              "<p>100 rows × 16 columns</p>\n",
              "</div>"
            ],
            "text/plain": [
              "                                  name  ... time_signature\n",
              "0   See You Again (feat. Charlie Puth)  ...              4\n",
              "1                              Riptide  ...              4\n",
              "2                         Stressed Out  ...              4\n",
              "3                 Titanium (feat. Sia)  ...              4\n",
              "4                           Wake Me Up  ...              4\n",
              "..                                 ...  ...            ...\n",
              "95                            Dynamite  ...              4\n",
              "96                        Shake It Off  ...              4\n",
              "97                              Ho Hey  ...              4\n",
              "98                           The Hills  ...              4\n",
              "99                  Can't Feel My Face  ...              4\n",
              "\n",
              "[100 rows x 16 columns]"
            ]
          },
          "metadata": {
            "tags": []
          },
          "execution_count": 65
        }
      ]
    },
    {
      "cell_type": "code",
      "metadata": {
        "id": "VSXy0b9ErT4a"
      },
      "source": [
        "df['release_date'] = pd.to_datetime(df['release_date'], format='%Y-%m-%d') "
      ],
      "execution_count": null,
      "outputs": []
    },
    {
      "cell_type": "code",
      "metadata": {
        "colab": {
          "base_uri": "https://localhost:8080/",
          "height": 406
        },
        "id": "B3ETL581Wnsz",
        "outputId": "45925e4f-11da-4e57-a25d-dbf64767d6b3"
      },
      "source": [
        "import seaborn as sns\n",
        "import matplotlib.pyplot as plt\n",
        "plt.figure(figsize=(16, 6))\n",
        "sns.boxplot(x=df.release_date.dt.year,\n",
        "            y=df.instrumentalness)"
      ],
      "execution_count": null,
      "outputs": [
        {
          "output_type": "execute_result",
          "data": {
            "text/plain": [
              "<matplotlib.axes._subplots.AxesSubplot at 0x7f154b466f60>"
            ]
          },
          "metadata": {
            "tags": []
          },
          "execution_count": 55
        },
        {
          "output_type": "display_data",
          "data": {
            "image/png": "[encoded data removed]",
            "text/plain": [
              "<Figure size 1152x432 with 1 Axes>"
            ]
          },
          "metadata": {
            "tags": [],
            "needs_background": "light"
          }
        }
      ]
    },
    {
      "cell_type": "code",
      "metadata": {
        "colab": {
          "base_uri": "https://localhost:8080/",
          "height": 406
        },
        "id": "N9aVN-XtWxyw",
        "outputId": "39134344-d99e-421e-a3d4-4f06f481edf2"
      },
      "source": [
        "plt.figure(figsize=(16, 6))\n",
        "sns.boxplot(x=df.release_date.dt.month,\n",
        "            y=df.liveness)"
      ],
      "execution_count": null,
      "outputs": [
        {
          "output_type": "execute_result",
          "data": {
            "text/plain": [
              "<matplotlib.axes._subplots.AxesSubplot at 0x7f154b383390>"
            ]
          },
          "metadata": {
            "tags": []
          },
          "execution_count": 56
        },
        {
          "output_type": "display_data",
          "data": {
            "image/png": "[encoded data removed]",
            "text/plain": [
              "<Figure size 1152x432 with 1 Axes>"
            ]
          },
          "metadata": {
            "tags": [],
            "needs_background": "light"
          }
        }
      ]
    },
    {
      "cell_type": "code",
      "metadata": {
        "colab": {
          "base_uri": "https://localhost:8080/",
          "height": 296
        },
        "id": "3ZhfYWOstHAy",
        "outputId": "3aa4f4e3-3613-41df-dea4-dba6d79ae0ea"
      },
      "source": [
        "df.plot(kind='scatter', x='instrumentalness', y='speechiness')"
      ],
      "execution_count": null,
      "outputs": [
        {
          "output_type": "execute_result",
          "data": {
            "text/plain": [
              "<matplotlib.axes._subplots.AxesSubplot at 0x7f154ae7e898>"
            ]
          },
          "metadata": {
            "tags": []
          },
          "execution_count": 57
        },
        {
          "output_type": "display_data",
          "data": {
            "image/png": "[encoded data removed]",
            "text/plain": [
              "<Figure size 432x288 with 1 Axes>"
            ]
          },
          "metadata": {
            "tags": [],
            "needs_background": "light"
          }
        }
      ]
    },
    {
      "cell_type": "code",
      "metadata": {
        "id": "kkXLjArUvquv"
      },
      "source": [
        "df1=df['artist'].value_counts()"
      ],
      "execution_count": null,
      "outputs": []
    },
    {
      "cell_type": "code",
      "metadata": {
        "id": "nMdT0I-ywQ1U"
      },
      "source": [
        "df2 = pd.DataFrame({'artist':df1.index, 'count':df1.values})"
      ],
      "execution_count": null,
      "outputs": []
    },
    {
      "cell_type": "code",
      "metadata": {
        "colab": {
          "base_uri": "https://localhost:8080/",
          "height": 406
        },
        "id": "G6bESlN5rorw",
        "outputId": "9c0d4627-13ef-467b-a2c8-4830b45d52ab"
      },
      "source": [
        "df2"
      ],
      "execution_count": null,
      "outputs": [
        {
          "output_type": "execute_result",
          "data": {
            "text/html": [
              "<div>\n",
              "<style scoped>\n",
              "    .dataframe tbody tr th:only-of-type {\n",
              "        vertical-align: middle;\n",
              "    }\n",
              "\n",
              "    .dataframe tbody tr th {\n",
              "        vertical-align: top;\n",
              "    }\n",
              "\n",
              "    .dataframe thead th {\n",
              "        text-align: right;\n",
              "    }\n",
              "</style>\n",
              "<table border=\"1\" class=\"dataframe\">\n",
              "  <thead>\n",
              "    <tr style=\"text-align: right;\">\n",
              "      <th></th>\n",
              "      <th>artist</th>\n",
              "      <th>count</th>\n",
              "    </tr>\n",
              "  </thead>\n",
              "  <tbody>\n",
              "    <tr>\n",
              "      <th>0</th>\n",
              "      <td>Avicii</td>\n",
              "      <td>4</td>\n",
              "    </tr>\n",
              "    <tr>\n",
              "      <th>1</th>\n",
              "      <td>Various Artists</td>\n",
              "      <td>3</td>\n",
              "    </tr>\n",
              "    <tr>\n",
              "      <th>2</th>\n",
              "      <td>Macklemore &amp; Ryan Lewis</td>\n",
              "      <td>3</td>\n",
              "    </tr>\n",
              "    <tr>\n",
              "      <th>3</th>\n",
              "      <td>Adele</td>\n",
              "      <td>3</td>\n",
              "    </tr>\n",
              "    <tr>\n",
              "      <th>4</th>\n",
              "      <td>Imagine Dragons</td>\n",
              "      <td>3</td>\n",
              "    </tr>\n",
              "    <tr>\n",
              "      <th>...</th>\n",
              "      <td>...</td>\n",
              "      <td>...</td>\n",
              "    </tr>\n",
              "    <tr>\n",
              "      <th>73</th>\n",
              "      <td>P!nk</td>\n",
              "      <td>1</td>\n",
              "    </tr>\n",
              "    <tr>\n",
              "      <th>74</th>\n",
              "      <td>Twenty One Pilots</td>\n",
              "      <td>1</td>\n",
              "    </tr>\n",
              "    <tr>\n",
              "      <th>75</th>\n",
              "      <td>B.o.B</td>\n",
              "      <td>1</td>\n",
              "    </tr>\n",
              "    <tr>\n",
              "      <th>76</th>\n",
              "      <td>Vance Joy</td>\n",
              "      <td>1</td>\n",
              "    </tr>\n",
              "    <tr>\n",
              "      <th>77</th>\n",
              "      <td>Daft Punk</td>\n",
              "      <td>1</td>\n",
              "    </tr>\n",
              "  </tbody>\n",
              "</table>\n",
              "<p>78 rows × 2 columns</p>\n",
              "</div>"
            ],
            "text/plain": [
              "                     artist  count\n",
              "0                    Avicii      4\n",
              "1           Various Artists      3\n",
              "2   Macklemore & Ryan Lewis      3\n",
              "3                     Adele      3\n",
              "4           Imagine Dragons      3\n",
              "..                      ...    ...\n",
              "73                     P!nk      1\n",
              "74        Twenty One Pilots      1\n",
              "75                    B.o.B      1\n",
              "76                Vance Joy      1\n",
              "77                Daft Punk      1\n",
              "\n",
              "[78 rows x 2 columns]"
            ]
          },
          "metadata": {
            "tags": []
          },
          "execution_count": 69
        }
      ]
    },
    {
      "cell_type": "code",
      "metadata": {
        "id": "sB87FALnuRt9"
      },
      "source": [
        "plt.figure(figsize=(10,5))\n",
        "chart = sns.barplot('artist','count',data=df2,palette='vlag')\n",
        "chart.set_xticklabels(chart.get_xticklabels())\n",
        "#chart.set(xlabels='Artist',ylabel='Number of songs')"
      ],
      "execution_count": null,
      "outputs": []
    },
    {
      "cell_type": "code",
      "metadata": {
        "colab": {
          "base_uri": "https://localhost:8080/",
          "height": 297
        },
        "id": "3a2Q1B8G0rmJ",
        "outputId": "4e78e7d9-6d86-49f1-de04-1139bacd3fc7"
      },
      "source": [
        "fig,ax=plt.subplots(figsize=(6,4))\n",
        "sns.lineplot(x=df.release_date.dt.year,y=df.acousticness,data=df)"
      ],
      "execution_count": null,
      "outputs": [
        {
          "output_type": "execute_result",
          "data": {
            "text/plain": [
              "<matplotlib.axes._subplots.AxesSubplot at 0x7f154a02e630>"
            ]
          },
          "metadata": {
            "tags": []
          },
          "execution_count": 66
        },
        {
          "output_type": "display_data",
          "data": {
            "image/png": "[encoded data removed]",
            "text/plain": [
              "<Figure size 432x288 with 1 Axes>"
            ]
          },
          "metadata": {
            "tags": [],
            "needs_background": "light"
          }
        }
      ]
    },
    {
      "cell_type": "code",
      "metadata": {
        "colab": {
          "base_uri": "https://localhost:8080/",
          "height": 511
        },
        "id": "gNtYXZ5tyl1n",
        "outputId": "1ce30232-ad67-4b49-d736-4f96a136e599"
      },
      "source": [
        "correlated_data = df[['popularity', 'danceability', 'acousticness', 'danceability', 'energy']].corr()\n",
        "fig,ax=plt.subplots(figsize=(8,5))\n",
        "sns.heatmap(correlated_data)"
      ],
      "execution_count": null,
      "outputs": [
        {
          "output_type": "error",
          "ename": "TypeError",
          "evalue": "ignored",
          "traceback": [
            "\u001b[0;31m---------------------------------------------------------------------------\u001b[0m",
            "\u001b[0;31mTypeError\u001b[0m                                 Traceback (most recent call last)",
            "\u001b[0;32m<ipython-input-72-cdd1b4eceff8>\u001b[0m in \u001b[0;36m<module>\u001b[0;34m()\u001b[0m\n\u001b[1;32m      1\u001b[0m \u001b[0mcorrelated_data\u001b[0m \u001b[0;34m=\u001b[0m \u001b[0mdf\u001b[0m\u001b[0;34m[\u001b[0m\u001b[0;34m[\u001b[0m\u001b[0;34m'popularity'\u001b[0m\u001b[0;34m,\u001b[0m \u001b[0;34m'danceability'\u001b[0m\u001b[0;34m,\u001b[0m \u001b[0;34m'acousticness'\u001b[0m\u001b[0;34m,\u001b[0m \u001b[0;34m'danceability'\u001b[0m\u001b[0;34m,\u001b[0m \u001b[0;34m'energy'\u001b[0m\u001b[0;34m]\u001b[0m\u001b[0;34m]\u001b[0m\u001b[0;34m.\u001b[0m\u001b[0mcorr\u001b[0m\u001b[0;34m(\u001b[0m\u001b[0;34m)\u001b[0m\u001b[0;34m\u001b[0m\u001b[0;34m\u001b[0m\u001b[0m\n\u001b[1;32m      2\u001b[0m \u001b[0mfig\u001b[0m\u001b[0;34m,\u001b[0m\u001b[0max\u001b[0m\u001b[0;34m=\u001b[0m\u001b[0mplt\u001b[0m\u001b[0;34m.\u001b[0m\u001b[0msubplots\u001b[0m\u001b[0;34m(\u001b[0m\u001b[0mfigsize\u001b[0m\u001b[0;34m=\u001b[0m\u001b[0;34m(\u001b[0m\u001b[0;36m8\u001b[0m\u001b[0;34m,\u001b[0m\u001b[0;36m5\u001b[0m\u001b[0;34m)\u001b[0m\u001b[0;34m)\u001b[0m\u001b[0;34m\u001b[0m\u001b[0;34m\u001b[0m\u001b[0m\n\u001b[0;32m----> 3\u001b[0;31m \u001b[0msns\u001b[0m\u001b[0;34m.\u001b[0m\u001b[0mheatmap\u001b[0m\u001b[0;34m(\u001b[0m\u001b[0mcorrelated_data\u001b[0m\u001b[0;34m)\u001b[0m\u001b[0;34m\u001b[0m\u001b[0;34m\u001b[0m\u001b[0m\n\u001b[0m",
            "\u001b[0;31mTypeError\u001b[0m: 'DataFrame' object is not callable"
          ]
        },
        {
          "output_type": "display_data",
          "data": {
            "image/png": "[encoded data removed]",
            "text/plain": [
              "<Figure size 576x360 with 1 Axes>"
            ]
          },
          "metadata": {
            "tags": [],
            "needs_background": "light"
          }
        }
      ]
    }
  ]
}